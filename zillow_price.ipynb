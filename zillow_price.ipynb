{
 "cells": [
  {
   "cell_type": "code",
   "execution_count": 85,
   "metadata": {},
   "outputs": [],
   "source": [
    "import pandas as pd\n",
    "import numpy as np\n",
    "import matplotlib.pyplot as plt\n",
    "import seaborn as sns\n",
    "from sklearn.metrics import mean_squared_error, mean_absolute_error, r2_score\n",
    "from sklearn.model_selection import cross_val_score, RepeatedKFold, GridSearchCV"
   ]
  },
  {
   "cell_type": "code",
   "execution_count": 86,
   "metadata": {},
   "outputs": [
    {
     "data": {
      "text/html": [
       "<div>\n",
       "<style scoped>\n",
       "    .dataframe tbody tr th:only-of-type {\n",
       "        vertical-align: middle;\n",
       "    }\n",
       "\n",
       "    .dataframe tbody tr th {\n",
       "        vertical-align: top;\n",
       "    }\n",
       "\n",
       "    .dataframe thead th {\n",
       "        text-align: right;\n",
       "    }\n",
       "</style>\n",
       "<table border=\"1\" class=\"dataframe\">\n",
       "  <thead>\n",
       "    <tr style=\"text-align: right;\">\n",
       "      <th></th>\n",
       "      <th>Status Text</th>\n",
       "      <th>Time On Zillow</th>\n",
       "      <th>Price</th>\n",
       "      <th>Area</th>\n",
       "      <th>Price Per Sqft</th>\n",
       "      <th>Lot Area</th>\n",
       "      <th>Lot Area Unit</th>\n",
       "      <th>Beds</th>\n",
       "      <th>Bathrooms</th>\n",
       "      <th>Address</th>\n",
       "      <th>Street</th>\n",
       "      <th>City</th>\n",
       "      <th>State</th>\n",
       "      <th>Zipcode</th>\n",
       "      <th>Latitude</th>\n",
       "      <th>Longitude</th>\n",
       "    </tr>\n",
       "  </thead>\n",
       "  <tbody>\n",
       "    <tr>\n",
       "      <th>0</th>\n",
       "      <td>Condo for sale</td>\n",
       "      <td>5 days</td>\n",
       "      <td>528000</td>\n",
       "      <td>1098.0</td>\n",
       "      <td>481.0</td>\n",
       "      <td>2815.0</td>\n",
       "      <td>sqft</td>\n",
       "      <td>2.0</td>\n",
       "      <td>2.0</td>\n",
       "      <td>1511 Hilo St, West Covina, CA 91792</td>\n",
       "      <td>1511 Hilo St</td>\n",
       "      <td>West Covina</td>\n",
       "      <td>CA</td>\n",
       "      <td>91792</td>\n",
       "      <td>34.042397</td>\n",
       "      <td>-117.91430</td>\n",
       "    </tr>\n",
       "    <tr>\n",
       "      <th>1</th>\n",
       "      <td>Condo for sale</td>\n",
       "      <td>3 days</td>\n",
       "      <td>540000</td>\n",
       "      <td>1137.0</td>\n",
       "      <td>475.0</td>\n",
       "      <td>1137.0</td>\n",
       "      <td>sqft</td>\n",
       "      <td>2.0</td>\n",
       "      <td>2.0</td>\n",
       "      <td>6525 Twin Circle Ln UNIT 7, Simi Valley, CA 93063</td>\n",
       "      <td>6525 Twin Circle Ln UNIT 7</td>\n",
       "      <td>Simi Valley</td>\n",
       "      <td>CA</td>\n",
       "      <td>93063</td>\n",
       "      <td>34.266700</td>\n",
       "      <td>-118.66285</td>\n",
       "    </tr>\n",
       "    <tr>\n",
       "      <th>2</th>\n",
       "      <td>Condo for sale</td>\n",
       "      <td>4 days</td>\n",
       "      <td>539000</td>\n",
       "      <td>1104.0</td>\n",
       "      <td>488.0</td>\n",
       "      <td>NaN</td>\n",
       "      <td>NaN</td>\n",
       "      <td>2.0</td>\n",
       "      <td>2.0</td>\n",
       "      <td>675 Oak Run Trl UNIT 301, Oak Park, CA 91377</td>\n",
       "      <td>675 Oak Run Trl UNIT 301</td>\n",
       "      <td>Oak Park</td>\n",
       "      <td>CA</td>\n",
       "      <td>91377</td>\n",
       "      <td>34.184055</td>\n",
       "      <td>-118.76704</td>\n",
       "    </tr>\n",
       "    <tr>\n",
       "      <th>3</th>\n",
       "      <td>Condo for sale</td>\n",
       "      <td>27 days</td>\n",
       "      <td>555000</td>\n",
       "      <td>867.0</td>\n",
       "      <td>640.0</td>\n",
       "      <td>NaN</td>\n",
       "      <td>NaN</td>\n",
       "      <td>3.0</td>\n",
       "      <td>1.0</td>\n",
       "      <td>16923 Cedarwood Ct, Cerritos, CA 90703</td>\n",
       "      <td>16923 Cedarwood Ct</td>\n",
       "      <td>Cerritos</td>\n",
       "      <td>CA</td>\n",
       "      <td>90703</td>\n",
       "      <td>33.877530</td>\n",
       "      <td>-118.06723</td>\n",
       "    </tr>\n",
       "    <tr>\n",
       "      <th>4</th>\n",
       "      <td>House for sale</td>\n",
       "      <td>4 days</td>\n",
       "      <td>725000</td>\n",
       "      <td>1015.0</td>\n",
       "      <td>714.0</td>\n",
       "      <td>2063.0</td>\n",
       "      <td>sqft</td>\n",
       "      <td>3.0</td>\n",
       "      <td>2.0</td>\n",
       "      <td>1610 E 61st St, Long Beach, CA 90805</td>\n",
       "      <td>1610 E 61st St</td>\n",
       "      <td>Long Beach</td>\n",
       "      <td>CA</td>\n",
       "      <td>90805</td>\n",
       "      <td>33.865410</td>\n",
       "      <td>-118.17316</td>\n",
       "    </tr>\n",
       "  </tbody>\n",
       "</table>\n",
       "</div>"
      ],
      "text/plain": [
       "      Status Text Time On Zillow   Price    Area  Price Per Sqft  Lot Area  \\\n",
       "0  Condo for sale         5 days  528000  1098.0           481.0    2815.0   \n",
       "1  Condo for sale         3 days  540000  1137.0           475.0    1137.0   \n",
       "2  Condo for sale         4 days  539000  1104.0           488.0       NaN   \n",
       "3  Condo for sale        27 days  555000   867.0           640.0       NaN   \n",
       "4  House for sale         4 days  725000  1015.0           714.0    2063.0   \n",
       "\n",
       "  Lot Area Unit  Beds  Bathrooms  \\\n",
       "0          sqft   2.0        2.0   \n",
       "1          sqft   2.0        2.0   \n",
       "2           NaN   2.0        2.0   \n",
       "3           NaN   3.0        1.0   \n",
       "4          sqft   3.0        2.0   \n",
       "\n",
       "                                             Address  \\\n",
       "0                1511 Hilo St, West Covina, CA 91792   \n",
       "1  6525 Twin Circle Ln UNIT 7, Simi Valley, CA 93063   \n",
       "2       675 Oak Run Trl UNIT 301, Oak Park, CA 91377   \n",
       "3             16923 Cedarwood Ct, Cerritos, CA 90703   \n",
       "4               1610 E 61st St, Long Beach, CA 90805   \n",
       "\n",
       "                       Street         City State  Zipcode   Latitude  \\\n",
       "0                1511 Hilo St  West Covina    CA    91792  34.042397   \n",
       "1  6525 Twin Circle Ln UNIT 7  Simi Valley    CA    93063  34.266700   \n",
       "2    675 Oak Run Trl UNIT 301     Oak Park    CA    91377  34.184055   \n",
       "3          16923 Cedarwood Ct     Cerritos    CA    90703  33.877530   \n",
       "4              1610 E 61st St   Long Beach    CA    90805  33.865410   \n",
       "\n",
       "   Longitude  \n",
       "0 -117.91430  \n",
       "1 -118.66285  \n",
       "2 -118.76704  \n",
       "3 -118.06723  \n",
       "4 -118.17316  "
      ]
     },
     "execution_count": 86,
     "metadata": {},
     "output_type": "execute_result"
    }
   ],
   "source": [
    "data_raw = pd.read_csv('Zillow-Scraper-results_1600_2024-11-06.csv')\n",
    "data_raw = data_raw[['Status Text', 'Time On Zillow', 'Price', 'Area', 'Price Per Sqft', \n",
    "             'Lot Area', 'Lot Area Unit', 'Beds', 'Bathrooms', 'Address', 'Street', 'City', 'State', 'Zipcode', 'Latitude', 'Longitude'\n",
    "]]\n",
    "data_raw.head()"
   ]
  },
  {
   "cell_type": "code",
   "execution_count": 87,
   "metadata": {},
   "outputs": [
    {
     "data": {
      "text/html": [
       "<div>\n",
       "<style scoped>\n",
       "    .dataframe tbody tr th:only-of-type {\n",
       "        vertical-align: middle;\n",
       "    }\n",
       "\n",
       "    .dataframe tbody tr th {\n",
       "        vertical-align: top;\n",
       "    }\n",
       "\n",
       "    .dataframe thead th {\n",
       "        text-align: right;\n",
       "    }\n",
       "</style>\n",
       "<table border=\"1\" class=\"dataframe\">\n",
       "  <thead>\n",
       "    <tr style=\"text-align: right;\">\n",
       "      <th></th>\n",
       "      <th>Status Text</th>\n",
       "      <th>Time On Zillow</th>\n",
       "      <th>Price</th>\n",
       "      <th>Area</th>\n",
       "      <th>Price Per Sqft</th>\n",
       "      <th>Lot Area</th>\n",
       "      <th>Lot Area Unit</th>\n",
       "      <th>Beds</th>\n",
       "      <th>Bathrooms</th>\n",
       "      <th>Address</th>\n",
       "      <th>Street</th>\n",
       "      <th>City</th>\n",
       "      <th>State</th>\n",
       "      <th>Zipcode</th>\n",
       "      <th>Latitude</th>\n",
       "      <th>Longitude</th>\n",
       "    </tr>\n",
       "  </thead>\n",
       "  <tbody>\n",
       "    <tr>\n",
       "      <th>4</th>\n",
       "      <td>House for sale</td>\n",
       "      <td>4</td>\n",
       "      <td>725000</td>\n",
       "      <td>1015.0</td>\n",
       "      <td>714.0</td>\n",
       "      <td>2063.000</td>\n",
       "      <td>sqft</td>\n",
       "      <td>3.0</td>\n",
       "      <td>2.0</td>\n",
       "      <td>1610 E 61st St, Long Beach, CA 90805</td>\n",
       "      <td>1610 E 61st St</td>\n",
       "      <td>Long Beach</td>\n",
       "      <td>CA</td>\n",
       "      <td>90805</td>\n",
       "      <td>33.865410</td>\n",
       "      <td>-118.173160</td>\n",
       "    </tr>\n",
       "    <tr>\n",
       "      <th>6</th>\n",
       "      <td>House for sale</td>\n",
       "      <td>4</td>\n",
       "      <td>2795000</td>\n",
       "      <td>3247.0</td>\n",
       "      <td>861.0</td>\n",
       "      <td>5702.004</td>\n",
       "      <td>sqft</td>\n",
       "      <td>5.0</td>\n",
       "      <td>5.0</td>\n",
       "      <td>3843 Minerva Ave, Los Angeles, CA 90066</td>\n",
       "      <td>3843 Minerva Ave</td>\n",
       "      <td>Los Angeles</td>\n",
       "      <td>CA</td>\n",
       "      <td>90066</td>\n",
       "      <td>34.008743</td>\n",
       "      <td>-118.421715</td>\n",
       "    </tr>\n",
       "    <tr>\n",
       "      <th>7</th>\n",
       "      <td>House for sale</td>\n",
       "      <td>3</td>\n",
       "      <td>3300000</td>\n",
       "      <td>2409.0</td>\n",
       "      <td>1370.0</td>\n",
       "      <td>5083.452</td>\n",
       "      <td>sqft</td>\n",
       "      <td>4.0</td>\n",
       "      <td>4.0</td>\n",
       "      <td>1611 Sunset Plaza Dr, Los Angeles, CA 90069</td>\n",
       "      <td>1611 Sunset Plaza Dr</td>\n",
       "      <td>Los Angeles</td>\n",
       "      <td>CA</td>\n",
       "      <td>90069</td>\n",
       "      <td>34.100456</td>\n",
       "      <td>-118.380974</td>\n",
       "    </tr>\n",
       "    <tr>\n",
       "      <th>9</th>\n",
       "      <td>House for sale</td>\n",
       "      <td>3</td>\n",
       "      <td>675000</td>\n",
       "      <td>1287.0</td>\n",
       "      <td>524.0</td>\n",
       "      <td>5606.172</td>\n",
       "      <td>sqft</td>\n",
       "      <td>2.0</td>\n",
       "      <td>1.0</td>\n",
       "      <td>6030 Lemon Ave, Long Beach, CA 90805</td>\n",
       "      <td>6030 Lemon Ave</td>\n",
       "      <td>Long Beach</td>\n",
       "      <td>CA</td>\n",
       "      <td>90805</td>\n",
       "      <td>33.864280</td>\n",
       "      <td>-118.178910</td>\n",
       "    </tr>\n",
       "    <tr>\n",
       "      <th>12</th>\n",
       "      <td>House for sale</td>\n",
       "      <td>5</td>\n",
       "      <td>1475000</td>\n",
       "      <td>1948.0</td>\n",
       "      <td>757.0</td>\n",
       "      <td>6600.000</td>\n",
       "      <td>sqft</td>\n",
       "      <td>4.0</td>\n",
       "      <td>3.0</td>\n",
       "      <td>16821 Montclair Ln, Huntington Beach, CA 92647</td>\n",
       "      <td>16821 Montclair Ln</td>\n",
       "      <td>Huntington Beach</td>\n",
       "      <td>CA</td>\n",
       "      <td>92647</td>\n",
       "      <td>33.718277</td>\n",
       "      <td>-117.984270</td>\n",
       "    </tr>\n",
       "  </tbody>\n",
       "</table>\n",
       "</div>"
      ],
      "text/plain": [
       "       Status Text  Time On Zillow    Price    Area  Price Per Sqft  Lot Area  \\\n",
       "4   House for sale               4   725000  1015.0           714.0  2063.000   \n",
       "6   House for sale               4  2795000  3247.0           861.0  5702.004   \n",
       "7   House for sale               3  3300000  2409.0          1370.0  5083.452   \n",
       "9   House for sale               3   675000  1287.0           524.0  5606.172   \n",
       "12  House for sale               5  1475000  1948.0           757.0  6600.000   \n",
       "\n",
       "   Lot Area Unit  Beds  Bathrooms  \\\n",
       "4           sqft   3.0        2.0   \n",
       "6           sqft   5.0        5.0   \n",
       "7           sqft   4.0        4.0   \n",
       "9           sqft   2.0        1.0   \n",
       "12          sqft   4.0        3.0   \n",
       "\n",
       "                                           Address                Street  \\\n",
       "4             1610 E 61st St, Long Beach, CA 90805        1610 E 61st St   \n",
       "6          3843 Minerva Ave, Los Angeles, CA 90066      3843 Minerva Ave   \n",
       "7      1611 Sunset Plaza Dr, Los Angeles, CA 90069  1611 Sunset Plaza Dr   \n",
       "9             6030 Lemon Ave, Long Beach, CA 90805        6030 Lemon Ave   \n",
       "12  16821 Montclair Ln, Huntington Beach, CA 92647    16821 Montclair Ln   \n",
       "\n",
       "                City State  Zipcode   Latitude   Longitude  \n",
       "4         Long Beach    CA    90805  33.865410 -118.173160  \n",
       "6        Los Angeles    CA    90066  34.008743 -118.421715  \n",
       "7        Los Angeles    CA    90069  34.100456 -118.380974  \n",
       "9         Long Beach    CA    90805  33.864280 -118.178910  \n",
       "12  Huntington Beach    CA    92647  33.718277 -117.984270  "
      ]
     },
     "execution_count": 87,
     "metadata": {},
     "output_type": "execute_result"
    }
   ],
   "source": [
    "# filter and process data\n",
    "# status text starts with Home House or Townhouse\n",
    "data = data_raw[data_raw['Status Text'].str.contains('Home|House|Townhouse', na=False)].copy()\n",
    "# remove ' days' from Time On Zillow and store as int\n",
    "data['Time On Zillow'] = data['Time On Zillow'].str.replace(' days', '').astype(int)\n",
    "# if lot area unit is acres, convert to sqft\n",
    "data['Lot Area'] = np.where(data['Lot Area Unit'] == 'acres', data['Lot Area']*43560, data['Lot Area'])\n",
    "# drop rows with missing values\n",
    "data = data.dropna()\n",
    "data.head()"
   ]
  },
  {
   "cell_type": "code",
   "execution_count": 88,
   "metadata": {},
   "outputs": [
    {
     "data": {
      "text/plain": [
       "<Axes: ylabel='Price Per Sqft'>"
      ]
     },
     "execution_count": 88,
     "metadata": {},
     "output_type": "execute_result"
    },
    {
     "data": {
      "image/png": "[encoded data removed]",
      "text/plain": [
       "<Figure size 640x480 with 1 Axes>"
      ]
     },
     "metadata": {},
     "output_type": "display_data"
    }
   ],
   "source": [
    "# check for outliers\n",
    "sns.boxplot(data['Price Per Sqft'])"
   ]
  },
  {
   "cell_type": "code",
   "execution_count": 89,
   "metadata": {},
   "outputs": [
    {
     "data": {
      "text/plain": [
       "<Axes: ylabel='Price Per Sqft'>"
      ]
     },
     "execution_count": 89,
     "metadata": {},
     "output_type": "execute_result"
    },
    {
     "data": {
      "image/png": "[encoded data removed]",
      "text/plain": [
       "<Figure size 640x480 with 1 Axes>"
      ]
     },
     "metadata": {},
     "output_type": "display_data"
    }
   ],
   "source": [
    "# remove outliers more than 2.5 standard deviations from the mean\n",
    "data = data[np.abs(data['Price Per Sqft']-data['Price Per Sqft'].mean()) <= (2.5*data['Price Per Sqft'].std())]\n",
    "sns.boxplot(data['Price Per Sqft'])"
   ]
  },
  {
   "cell_type": "code",
   "execution_count": 90,
   "metadata": {},
   "outputs": [],
   "source": [
    "# replace column names with lowercase and underscores\n",
    "data.columns = data.columns.str.lower().str.replace(' ', '_')"
   ]
  },
  {
   "cell_type": "code",
   "execution_count": 91,
   "metadata": {},
   "outputs": [],
   "source": [
    "# split training and testing data\n",
    "from sklearn.model_selection import train_test_split\n",
    "x_col = ['Time On Zillow', 'Area', 'Lot Area', 'Beds', 'Bathrooms', 'Latitude', 'Longitude']\n",
    "x_col = [col.lower().replace(' ', '_') for col in x_col]\n",
    "y_col = 'Price Per Sqft'.lower().replace(' ', '_')\n",
    "# y_col = 'Price'\n",
    "X = data[x_col]\n",
    "y = data[y_col]\n",
    "X_train, X_test, y_train, y_test = train_test_split(X, y, test_size=0.2, random_state=42)\n"
   ]
  },
  {
   "cell_type": "code",
   "execution_count": 92,
   "metadata": {},
   "outputs": [
    {
     "name": "stdout",
     "output_type": "stream",
     "text": [
      "[LightGBM] [Info] Auto-choosing col-wise multi-threading, the overhead of testing was 0.000228 seconds.\n",
      "You can set `force_col_wise=true` to remove the overhead.\n",
      "[LightGBM] [Info] Total Bins 1116\n",
      "[LightGBM] [Info] Number of data points in the train set: 964, number of used features: 7\n",
      "[LightGBM] [Info] Start training from score 797.390041\n",
      "MAE: 224.042, MSE: 117852.383, R2: 0.477\n"
     ]
    }
   ],
   "source": [
    "# train model using lightgbm\n",
    "import lightgbm as lgb\n",
    "model = lgb.LGBMRegressor(random_state=42, n_jobs=-1)\n",
    "model.fit(X_train, y_train)\n",
    "y_pred = model.predict(X_test)\n",
    "# get mae, mse, r2\n",
    "mae = mean_absolute_error(y_test, y_pred)\n",
    "mse = mean_squared_error(y_test, y_pred)\n",
    "r2 = r2_score(y_test, y_pred)\n",
    "print(f'MAE: {mae:.3f}, MSE: {mse:.3f}, R2: {r2:.3f}')"
   ]
  },
  {
   "cell_type": "code",
   "execution_count": 93,
   "metadata": {},
   "outputs": [
    {
     "data": {
      "text/plain": [
       "<BarContainer object of 7 artists>"
      ]
     },
     "execution_count": 93,
     "metadata": {},
     "output_type": "execute_result"
    },
    {
     "data": {
      "image/png": "[encoded data removed]",
      "text/plain": [
       "<Figure size 640x480 with 1 Axes>"
      ]
     },
     "metadata": {},
     "output_type": "display_data"
    }
   ],
   "source": [
    "# model feature importance\n",
    "feature_importance = model.feature_importances_\n",
    "# show plot of feature importance\n",
    "plt.barh(x_col, feature_importance)"
   ]
  },
  {
   "cell_type": "code",
   "execution_count": 94,
   "metadata": {},
   "outputs": [],
   "source": [
    "# read in census data\n",
    "census_data = pd.read_csv('census_data_cleaned.csv')\n",
    "x_col = ['zipcode', 'median_income', 'population', 'households', 'housing_units',\n",
    "       'homeowner_vacancy_rate', 'rental_vacancy_rate',\n",
    "       'occupied_housing_units', 'median_rooms',\n",
    "       'median_rent', 'median_value', 'value_to_income']\n",
    "# left joint to data on zipcode\n",
    "data_combined = data.merge(census_data[x_col], how='left', on='zipcode')"
   ]
  },
  {
   "cell_type": "code",
   "execution_count": 95,
   "metadata": {},
   "outputs": [
    {
     "data": {
      "text/plain": [
       "Index(['status_text', 'time_on_zillow', 'price', 'area', 'price_per_sqft',\n",
       "       'lot_area', 'lot_area_unit', 'beds', 'bathrooms', 'address', 'street',\n",
       "       'city', 'state', 'zipcode', 'latitude', 'longitude', 'median_income',\n",
       "       'population', 'households', 'housing_units', 'homeowner_vacancy_rate',\n",
       "       'rental_vacancy_rate', 'occupied_housing_units', 'median_rooms',\n",
       "       'median_rent', 'median_value', 'value_to_income'],\n",
       "      dtype='object')"
      ]
     },
     "execution_count": 95,
     "metadata": {},
     "output_type": "execute_result"
    }
   ],
   "source": [
    "data_combined.columns"
   ]
  },
  {
   "cell_type": "code",
   "execution_count": 96,
   "metadata": {},
   "outputs": [],
   "source": [
    "# count number of missing values\n",
    "data_combined.isnull().sum()\n",
    "# drop rows with missing values\n",
    "data_combined = data_combined.dropna()"
   ]
  },
  {
   "cell_type": "code",
   "execution_count": 97,
   "metadata": {},
   "outputs": [],
   "source": [
    "# split training and testing data\n",
    "x_col = ['time_on_zillow', 'area', \n",
    "       'lot_area', 'beds', 'bathrooms', 'latitude', 'longitude', 'median_income',\n",
    "       'population', 'households', 'housing_units', 'homeowner_vacancy_rate',\n",
    "       'rental_vacancy_rate', 'occupied_housing_units', 'median_rooms',\n",
    "       'median_rent', 'median_value', 'value_to_income']\n",
    "y_col = 'price_per_sqft'\n",
    "X = data_combined[x_col]\n",
    "y = data_combined[y_col]\n",
    "X_train, X_test, y_train, y_test = train_test_split(X, y, test_size=0.2, random_state=42)"
   ]
  },
  {
   "cell_type": "code",
   "execution_count": 98,
   "metadata": {},
   "outputs": [
    {
     "name": "stdout",
     "output_type": "stream",
     "text": [
      "[LightGBM] [Info] Auto-choosing col-wise multi-threading, the overhead of testing was 0.000354 seconds.\n",
      "You can set `force_col_wise=true` to remove the overhead.\n",
      "[LightGBM] [Info] Total Bins 2889\n",
      "[LightGBM] [Info] Number of data points in the train set: 857, number of used features: 18\n",
      "[LightGBM] [Info] Start training from score 720.192532\n",
      "MAE: 126.796, MSE: 31906.960, R2: 0.584\n"
     ]
    }
   ],
   "source": [
    "# train model using lightgbm\n",
    "model = lgb.LGBMRegressor(random_state=42, n_jobs=-1)\n",
    "model.fit(X_train, y_train)\n",
    "y_pred = model.predict(X_test)\n",
    "# get mae, mse, r2\n",
    "mae = mean_absolute_error(y_test, y_pred)\n",
    "mse = mean_squared_error(y_test, y_pred)\n",
    "r2 = r2_score(y_test, y_pred)\n",
    "print(f'MAE: {mae:.3f}, MSE: {mse:.3f}, R2: {r2:.3f}')"
   ]
  },
  {
   "cell_type": "code",
   "execution_count": 99,
   "metadata": {},
   "outputs": [
    {
     "data": {
      "text/plain": [
       "<BarContainer object of 18 artists>"
      ]
     },
     "execution_count": 99,
     "metadata": {},
     "output_type": "execute_result"
    },
    {
     "data": {
      "image/png": "[encoded data removed]",
      "text/plain": [
       "<Figure size 640x480 with 1 Axes>"
      ]
     },
     "metadata": {},
     "output_type": "display_data"
    }
   ],
   "source": [
    "# model feature importance\n",
    "feature_importance = model.feature_importances_\n",
    "# show plot of feature importance\n",
    "plt.barh(x_col, feature_importance)"
   ]
  },
  {
   "cell_type": "code",
   "execution_count": null,
   "metadata": {},
   "outputs": [],
   "source": []
  }
 ],
 "metadata": {
  "kernelspec": {
   "display_name": "base",
   "language": "python",
   "name": "python3"
  },
  "language_info": {
   "codemirror_mode": {
    "name": "ipython",
    "version": 3
   },
   "file_extension": ".py",
   "mimetype": "text/x-python",
   "name": "python",
   "nbconvert_exporter": "python",
   "pygments_lexer": "ipython3",
   "version": "3.12.3"
  }
 },
 "nbformat": 4,
 "nbformat_minor": 2
}
